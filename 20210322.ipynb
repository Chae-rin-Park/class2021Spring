{
  "nbformat": 4,
  "nbformat_minor": 0,
  "metadata": {
    "colab": {
      "name": "20210322.ipynb",
      "provenance": [],
      "authorship_tag": "ABX9TyO+ul2NiaayTLX0JqACYTjQ",
      "include_colab_link": true
    },
    "kernelspec": {
      "name": "python3",
      "display_name": "Python 3"
    },
    "language_info": {
      "name": "python"
    }
  },
  "cells": [
    {
      "cell_type": "markdown",
      "metadata": {
        "id": "view-in-github",
        "colab_type": "text"
      },
      "source": [
        "<a href=\"https://colab.research.google.com/github/Chae-rin-Park/class2021Spring/blob/main/20210322.ipynb\" target=\"_parent\"><img src=\"https://colab.research.google.com/assets/colab-badge.svg\" alt=\"Open In Colab\"/></a>"
      ]
    },
    {
      "cell_type": "markdown",
      "metadata": {
        "id": "VyUj9PkrUvpZ"
      },
      "source": [
        "def는 define, return은 출력해라?"
      ]
    },
    {
      "cell_type": "code",
      "metadata": {
        "id": "8wYOMn3wUlal"
      },
      "source": [
        "def add (a, b):\n",
        "  return a+b\n",
        "\n",
        "def subtract(a, b):\n",
        "  return a - b\n",
        "\n",
        "def multiply (a, b):\n",
        "  return a * b\n",
        "\n",
        "def divide (a, b):\n",
        "  return a / b"
      ],
      "execution_count": 9,
      "outputs": []
    },
    {
      "cell_type": "code",
      "metadata": {
        "colab": {
          "base_uri": "https://localhost:8080/"
        },
        "id": "ZTvDEicHV84u",
        "outputId": "3123931d-9912-4bbb-dddd-c5287ca9e281"
      },
      "source": [
        "c = add (1, 2); print (c)\n",
        "d = subtract (3, 4); print (d)\n",
        "e = multiply (5, 6); print (e)"
      ],
      "execution_count": 15,
      "outputs": [
        {
          "output_type": "stream",
          "text": [
            "3\n",
            "-1\n"
          ],
          "name": "stdout"
        }
      ]
    },
    {
      "cell_type": "code",
      "metadata": {
        "colab": {
          "base_uri": "https://localhost:8080/"
        },
        "id": "KWPZl0bCUygN",
        "outputId": "375d84f5-a1d4-4a08-fea4-c11cdc81de45"
      },
      "source": [
        "def func2 (x, a, b, c):\n",
        "  y = a*x**2 + b*x + c\n",
        "  return y\n",
        "print (func2 (3, 4, 2, 7))"
      ],
      "execution_count": 19,
      "outputs": [
        {
          "output_type": "stream",
          "text": [
            "49\n"
          ],
          "name": "stdout"
        }
      ]
    },
    {
      "cell_type": "markdown",
      "metadata": {
        "id": "o3BRAh2jauIM"
      },
      "source": [
        "class: OOP (object oriented program)\n",
        "\n",
        "module은 함수 file 안에 함수와 class를 여러 개 모아놓은 것 (파일형태는 .py)\n",
        "\n",
        "package는 파일을 넘어서 하나로 묶어놓은 것 (폴더 같은 것. 서브 패키지도 존재 가능)\n",
        "\n",
        "python에서는 class가 매우 중요\n",
        "\n",
        "class 클래스이름:\n",
        "\n",
        "  def 함수이름 (입력값):\n",
        "\n",
        "    return 결과\n",
        "\n",
        "\n",
        "외우세요\n",
        "\n",
        "def __init__(self):\n",
        "  self.result = 0\n",
        "\n",
        "A = 클래스이름 ()\n",
        "\n",
        "여기서 A는 객체 이걸 실행시키면 외워야 되는 저 부분이 실행됨\n",
        "\n",
        "class로부터 A라는 객체를 만들어냄\n",
        "\n",
        "\n",
        "numpy는 제일 유명한 패키지\n",
        "\n",
        "예를 들어 matplotlib라는 폴더(패키지) 안에 pyplot.py라는 module이 있다고 생각해보자\n",
        "\n",
        "그 안에 hist()라는 함수를 불러오기 위해서는?"
      ]
    }
  ]
}