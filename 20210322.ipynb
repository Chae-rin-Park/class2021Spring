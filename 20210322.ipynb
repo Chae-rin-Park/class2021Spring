{
  "nbformat": 4,
  "nbformat_minor": 0,
  "metadata": {
    "colab": {
      "name": "20210322.ipynb",
      "provenance": [],
      "authorship_tag": "ABX9TyOX64Rlgz4z204sXBkQGUsE",
      "include_colab_link": true
    },
    "kernelspec": {
      "name": "python3",
      "display_name": "Python 3"
    },
    "language_info": {
      "name": "python"
    }
  },
  "cells": [
    {
      "cell_type": "markdown",
      "metadata": {
        "id": "view-in-github",
        "colab_type": "text"
      },
      "source": [
        "<a href=\"https://colab.research.google.com/github/Chae-rin-Park/class2021Spring/blob/main/20210322.ipynb\" target=\"_parent\"><img src=\"https://colab.research.google.com/assets/colab-badge.svg\" alt=\"Open In Colab\"/></a>"
      ]
    },
    {
      "cell_type": "markdown",
      "metadata": {
        "id": "VyUj9PkrUvpZ"
      },
      "source": [
        "def는 define, return은 출력해라?"
      ]
    },
    {
      "cell_type": "code",
      "metadata": {
        "id": "8wYOMn3wUlal"
      },
      "source": [
        "def add (a, b):\n",
        "  return a+b\n",
        "\n",
        "def subtract(a, b):\n",
        "  return a - b\n",
        "\n",
        "def multiply (a, b):\n",
        "  return a * b\n",
        "\n",
        "def divide (a, b):\n",
        "  return a / b"
      ],
      "execution_count": 9,
      "outputs": []
    },
    {
      "cell_type": "code",
      "metadata": {
        "colab": {
          "base_uri": "https://localhost:8080/"
        },
        "id": "ZTvDEicHV84u",
        "outputId": "3123931d-9912-4bbb-dddd-c5287ca9e281"
      },
      "source": [
        "c = add (1, 2); print (c)\n",
        "d = subtract (3, 4); print (d)\n",
        "e = multiply (5, 6); print (e)"
      ],
      "execution_count": 15,
      "outputs": [
        {
          "output_type": "stream",
          "text": [
            "3\n",
            "-1\n"
          ],
          "name": "stdout"
        }
      ]
    },
    {
      "cell_type": "code",
      "metadata": {
        "colab": {
          "base_uri": "https://localhost:8080/"
        },
        "id": "KWPZl0bCUygN",
        "outputId": "375d84f5-a1d4-4a08-fea4-c11cdc81de45"
      },
      "source": [
        "def func2 (x, a, b, c):\n",
        "  y = a*x**2 + b*x + c\n",
        "  return y\n",
        "print (func2 (3, 4, 2, 7))"
      ],
      "execution_count": 19,
      "outputs": [
        {
          "output_type": "stream",
          "text": [
            "49\n"
          ],
          "name": "stdout"
        }
      ]
    }
  ]
}