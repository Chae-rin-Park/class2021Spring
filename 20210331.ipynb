{
  "nbformat": 4,
  "nbformat_minor": 0,
  "metadata": {
    "colab": {
      "name": "20210331.ipynb",
      "provenance": [],
      "authorship_tag": "ABX9TyPwRNYcBeXWDA4A3lmQ4V/3",
      "include_colab_link": true
    },
    "kernelspec": {
      "name": "python3",
      "display_name": "Python 3"
    },
    "language_info": {
      "name": "python"
    }
  },
  "cells": [
    {
      "cell_type": "markdown",
      "metadata": {
        "id": "view-in-github",
        "colab_type": "text"
      },
      "source": [
        "<a href=\"https://colab.research.google.com/github/Chae-rin-Park/class2021Spring/blob/main/20210331.ipynb\" target=\"_parent\"><img src=\"https://colab.research.google.com/assets/colab-badge.svg\" alt=\"Open In Colab\"/></a>"
      ]
    },
    {
      "cell_type": "markdown",
      "metadata": {
        "id": "SYY7xdlk444D"
      },
      "source": [
        "##a\n",
        "pitch: 229Hz\n",
        "\n",
        "intensity: 76.8dB\n",
        "\n",
        "formant: 2940Hz, 1646Hz\n",
        "\n",
        "duration: 0.59sec\n",
        "\n",
        "##e\n",
        "\n",
        "pitch: 232Hz\n",
        "\n",
        "intensity: 78.7dB\n",
        "\n",
        "formant: 2791Hz, 673Hz\n",
        "\n",
        "duration: 0.61sec"
      ]
    }
  ]
}