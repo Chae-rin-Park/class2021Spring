{
  "nbformat": 4,
  "nbformat_minor": 0,
  "metadata": {
    "colab": {
      "name": "0426필기.ipynb",
      "provenance": [],
      "authorship_tag": "ABX9TyP4nMslYnArpMJ1uvpIT6FE",
      "include_colab_link": true
    },
    "kernelspec": {
      "name": "python3",
      "display_name": "Python 3"
    },
    "language_info": {
      "name": "python"
    }
  },
  "cells": [
    {
      "cell_type": "markdown",
      "metadata": {
        "id": "view-in-github",
        "colab_type": "text"
      },
      "source": [
        "<a href=\"https://colab.research.google.com/github/Chae-rin-Park/class2021Spring/blob/main/0426%ED%95%84%EA%B8%B0.ipynb\" target=\"_parent\"><img src=\"https://colab.research.google.com/assets/colab-badge.svg\" alt=\"Open In Colab\"/></a>"
      ]
    },
    {
      "cell_type": "markdown",
      "metadata": {
        "id": "1AV9YrIQs3xR"
      },
      "source": [
        "sampling rate는 1초에 몇 개의 점을 찍냐 (단위는 Hz)\n",
        "\n",
        "sin 함수 자체는 시간의 단위가 없기 때문에 시간 단위와 phase 각도 (radian으로 표현)을 sync시켜줘야 함\n",
        "\n",
        "np.pi는 파이인 듯\n",
        "\n",
        "cycle 한 바퀴짜리 만드는 방법 = t * 2*np.pi\n",
        "\n",
        "그래서 여기다가 frequency 곱하면 wave 생성 가능\n",
        "\n",
        "fig.add_subplot(abc)하면 a, b의 행렬에서 c 칸에 그린다는 뜻\n",
        "\n",
        "plot(x,y)\n",
        "\n",
        "x = [a,b,c]\n",
        "y = [m,n,l]\n",
        "\n",
        "이면 (a,m), (b,n), (c,l)찍는 거\n",
        "\n",
        "x축이 시간이면 x축이 radian일 때보다 x 값의 단위가 작아짐"
      ]
    },
    {
      "cell_type": "code",
      "metadata": {
        "id": "TXbWasG4uvzR"
      },
      "source": [
        "from matplotlib import pyplot as plt\n",
        "import IPython.display as ipd\n",
        "import numpy as np\n",
        "from scipy.signal import lfilter"
      ],
      "execution_count": 3,
      "outputs": []
    }
  ]
}