{
  "nbformat": 4,
  "nbformat_minor": 0,
  "metadata": {
    "colab": {
      "name": "Untitled3.ipynb",
      "provenance": [],
      "authorship_tag": "ABX9TyN7Va0fz9uWRyeHFisfPz0v",
      "include_colab_link": true
    },
    "kernelspec": {
      "name": "python3",
      "display_name": "Python 3"
    },
    "language_info": {
      "name": "python"
    }
  },
  "cells": [
    {
      "cell_type": "markdown",
      "metadata": {
        "id": "view-in-github",
        "colab_type": "text"
      },
      "source": [
        "<a href=\"https://colab.research.google.com/github/Chae-rin-Park/class2021Spring/blob/main/20210503%ED%95%84%EA%B8%B0.ipynb\" target=\"_parent\"><img src=\"https://colab.research.google.com/assets/colab-badge.svg\" alt=\"Open In Colab\"/></a>"
      ]
    },
    {
      "cell_type": "code",
      "metadata": {
        "colab": {
          "base_uri": "https://localhost:8080/"
        },
        "id": "4W0nDSCF_2vO",
        "outputId": "50689a25-f362-4628-89b9-564cb78a2f23"
      },
      "source": [
        "import numpy as np\n",
        "theta = 3/2*np.pi\n",
        "np.exp (theta*1j)\n",
        "#1j는 허수 i를 뜻함"
      ],
      "execution_count": null,
      "outputs": [
        {
          "output_type": "execute_result",
          "data": {
            "text/plain": [
              "(-1.8369701987210297e-16-1j)"
            ]
          },
          "metadata": {
            "tags": []
          },
          "execution_count": 13
        }
      ]
    },
    {
      "cell_type": "markdown",
      "metadata": {
        "id": "MpqxbMoQm2Mi"
      },
      "source": [
        "phasor은 sinusoidal 만들어내는 주체이다 (pure tone 만드는)\n",
        "\n",
        "complex phasor은 e^세타i\n",
        "\n",
        "제곱해도 길이는 무조건 1, 각도 값은 비례 (제곱하면 두 배)"
      ]
    }
  ]
}