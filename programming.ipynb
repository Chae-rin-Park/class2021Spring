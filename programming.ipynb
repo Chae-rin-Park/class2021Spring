{
  "nbformat": 4,
  "nbformat_minor": 0,
  "metadata": {
    "colab": {
      "name": "필기.ipynb",
      "provenance": [],
      "authorship_tag": "ABX9TyOhmcCey38rY3/C+etBJMW7",
      "include_colab_link": true
    },
    "kernelspec": {
      "name": "python3",
      "display_name": "Python 3"
    }
  },
  "cells": [
    {
      "cell_type": "markdown",
      "metadata": {
        "id": "view-in-github",
        "colab_type": "text"
      },
      "source": [
        "<a href=\"https://colab.research.google.com/github/Chae-rin-Park/class2021Spring/blob/main/programming.ipynb\" target=\"_parent\"><img src=\"https://colab.research.google.com/assets/colab-badge.svg\" alt=\"Open In Colab\"/></a>"
      ]
    },
    {
      "cell_type": "code",
      "metadata": {
        "colab": {
          "base_uri": "https://localhost:8080/"
        },
        "id": "QuwLQbt3VsCs",
        "outputId": "9e999239-47e9-497e-dde1-68a6b4ca7c41"
      },
      "source": [
        "a = 1\n",
        "b = 2\n",
        "c = a + b\n",
        "c"
      ],
      "execution_count": null,
      "outputs": [
        {
          "output_type": "execute_result",
          "data": {
            "text/plain": [
              "3"
            ]
          },
          "metadata": {
            "tags": []
          },
          "execution_count": 2
        }
      ]
    },
    {
      "cell_type": "markdown",
      "metadata": {
        "id": "6EOe0sp5ionu"
      },
      "source": [
        "#**20210310 필기**\n",
        "\n",
        "파이썬에서 =은 오른쪽 내용을 왼쪽에 assign한다는 기호\n",
        "\n",
        "왼쪽은 variable, 변수라고 부름\n",
        "\n",
        "문자를 쓸 때는 '사용' \n",
        "\n",
        "여기까지가 단어\n",
        "\n",
        "\n",
        "이제 문법\n",
        "문법은 제어문\n",
        "1. 반복: for\n",
        "2. 조건: if\n",
        "\n",
        "모든 컴퓨터 언어는 for과 if를 가지고 있음\n",
        "\n",
        "==두개 쓰면 같다는 뜻\n",
        "\n",
        "\n",
        "함수: 입출력 관계에서 입력에서 출력이 되기까지의 변화 과정\n",
        "\n",
        "y=f(x)에서 y는 출력값, x는 입력값\n",
        "\n",
        "함수가 굉장히 복잡하다면 함수를 만들어서 이름을 붙이고 그 이름을 쓰는 것 -> 반복적으로 해야 할 때 덜 번거로움\n",
        "\n",
        "\n",
        "문자열 자료형: 'abc'이런 식으로 따옴표 쓰면 문자로 인식 '123'도 마찬가지\n",
        "\n",
        "리스트 자료형: [1,2,3] 등 대괄호 사용 ['love', 3, 'happy']도 가능\n",
        "\n",
        "튜플 자료형: 리스트에서 대괄호 대신 소괄호 사용 -> security 때문에 사용 (리스트와 거의 비슷)\n",
        "\n",
        "딕셔너리 자료형: 중괄호 사용 {학생1: 165, 학생2: 170}처럼 항목마다 value도 같이 써야 하는 경우\n",
        "\n"
      ]
    },
    {
      "cell_type": "markdown",
      "metadata": {
        "id": "Mc-LaFD2UCwH"
      },
      "source": [
        "# **20210308 필기**\n",
        "1. python \n",
        "2. markdown: 텍스트 서식 변화시키는 것 (볼드, 이태릭 등)"
      ]
    }
  ]
}