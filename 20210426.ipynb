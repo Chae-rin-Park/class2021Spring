{
  "nbformat": 4,
  "nbformat_minor": 0,
  "metadata": {
    "colab": {
      "name": "20210426.ipynb",
      "provenance": [],
      "authorship_tag": "ABX9TyM+09YDghx/ig+ncl2EbcAY",
      "include_colab_link": true
    },
    "kernelspec": {
      "name": "python3",
      "display_name": "Python 3"
    },
    "language_info": {
      "name": "python"
    }
  },
  "cells": [
    {
      "cell_type": "markdown",
      "metadata": {
        "id": "view-in-github",
        "colab_type": "text"
      },
      "source": [
        "<a href=\"https://colab.research.google.com/github/Chae-rin-Park/class2021Spring/blob/main/20210426.ipynb\" target=\"_parent\"><img src=\"https://colab.research.google.com/assets/colab-badge.svg\" alt=\"Open In Colab\"/></a>"
      ]
    },
    {
      "cell_type": "code",
      "metadata": {
        "id": "DMNbKp_xxlK7"
      },
      "source": [
        "from matplotlib import pyplot as plt\n",
        "import numpy as np\n",
        "import IPython.display as ipd\n",
        "from scipy.signal import lfilter"
      ],
      "execution_count": 2,
      "outputs": []
    },
    {
      "cell_type": "code",
      "metadata": {
        "id": "XWWN6qzbxULk"
      },
      "source": [
        "def phasor (amp, sr, dur, freq):\n",
        "  t = np.arange (1, sr*dur+1)/sr\n",
        "  theta = t * 2*np.pi * freq\n",
        "  s = np.sin (theta)\n",
        "  return t, theta, s"
      ],
      "execution_count": 30,
      "outputs": []
    },
    {
      "cell_type": "code",
      "metadata": {
        "colab": {
          "base_uri": "https://localhost:8080/"
        },
        "id": "GNW8RPVX6JXB",
        "outputId": "7a9dd907-dd02-4484-ab85-88c4133521fa"
      },
      "source": [
        "phasor (1, 10000, 2, 440)"
      ],
      "execution_count": 36,
      "outputs": [
        {
          "output_type": "execute_result",
          "data": {
            "text/plain": [
              "(array([1.0000e-04, 2.0000e-04, 3.0000e-04, ..., 1.9998e+00, 1.9999e+00,\n",
              "        2.0000e+00]),\n",
              " array([2.76460154e-01, 5.52920307e-01, 8.29380461e-01, ...,\n",
              "        5.52865015e+03, 5.52892661e+03, 5.52920307e+03]),\n",
              " array([ 2.72951936e-01,  5.25174630e-01,  7.37513117e-01, ...,\n",
              "        -5.25174630e-01, -2.72951936e-01,  1.25522677e-13]))"
            ]
          },
          "metadata": {
            "tags": []
          },
          "execution_count": 36
        }
      ]
    }
  ]
}