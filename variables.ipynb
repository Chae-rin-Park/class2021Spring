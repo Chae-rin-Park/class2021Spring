{
  "nbformat": 4,
  "nbformat_minor": 0,
  "metadata": {
    "colab": {
      "name": "Untitled0.ipynb",
      "provenance": [],
      "authorship_tag": "ABX9TyOWb/2WVirRJbSKp/lqlOsN",
      "include_colab_link": true
    },
    "kernelspec": {
      "name": "python3",
      "display_name": "Python 3"
    }
  },
  "cells": [
    {
      "cell_type": "markdown",
      "metadata": {
        "id": "view-in-github",
        "colab_type": "text"
      },
      "source": [
        "<a href=\"https://colab.research.google.com/github/Chae-rin-Park/class2021Spring/blob/main/variables.ipynb\" target=\"_parent\"><img src=\"https://colab.research.google.com/assets/colab-badge.svg\" alt=\"Open In Colab\"/></a>"
      ]
    },
    {
      "cell_type": "code",
      "metadata": {
        "id": "CO7dgtLKVaTm",
        "outputId": "39497616-a168-4c31-a383-ab674a40dc43",
        "colab": {
          "base_uri": "https://localhost:8080/"
        }
      },
      "source": [
        "m = '3'\n",
        "print (m)"
      ],
      "execution_count": 19,
      "outputs": [
        {
          "output_type": "stream",
          "text": [
            "3\n"
          ],
          "name": "stdout"
        }
      ]
    },
    {
      "cell_type": "markdown",
      "metadata": {
        "id": "r1OSKoOqV3_R"
      },
      "source": [
        "tuple은 list와 달리 내용물?을 교체할 수 없음 그 자체로 하나의 요소인 듯"
      ]
    },
    {
      "cell_type": "code",
      "metadata": {
        "colab": {
          "base_uri": "https://localhost:8080/"
        },
        "id": "HOoo_5hAwxwx",
        "outputId": "43bc9b75-3026-4e49-a30f-8cb548c1df2a"
      },
      "source": [
        "a=1\n",
        "print (type (a))"
      ],
      "execution_count": 2,
      "outputs": [
        {
          "output_type": "stream",
          "text": [
            "<class 'int'>\n"
          ],
          "name": "stdout"
        }
      ]
    },
    {
      "cell_type": "code",
      "metadata": {
        "colab": {
          "base_uri": "https://localhost:8080/"
        },
        "id": "QBqwDK3rxRRt",
        "outputId": "864bf335-4f04-4d7d-d078-801caa3fb0b4"
      },
      "source": [
        "a='love'\n",
        "print (type (a))"
      ],
      "execution_count": 14,
      "outputs": [
        {
          "output_type": "stream",
          "text": [
            "<class 'str'>\n"
          ],
          "name": "stdout"
        }
      ]
    },
    {
      "cell_type": "code",
      "metadata": {
        "id": "3z0I9Dy_Tcpk",
        "outputId": "b3151809-0131-47f2-9d81-5bcf6fb5b99b",
        "colab": {
          "base_uri": "https://localhost:8080/"
        }
      },
      "source": [
        "a = list (a)\n",
        "print (a)\n",
        "print (type(a))"
      ],
      "execution_count": 18,
      "outputs": [
        {
          "output_type": "stream",
          "text": [
            "['l', 'o', 'v', 'e']\n",
            "<class 'list'>\n"
          ],
          "name": "stdout"
        }
      ]
    },
    {
      "cell_type": "code",
      "metadata": {
        "colab": {
          "base_uri": "https://localhost:8080/"
        },
        "id": "VTj9rUsGxXK-",
        "outputId": "a5c6a547-40cf-4b38-9011-c639f2aae202"
      },
      "source": [
        "a=(1,2,'love')\n",
        "print (type (a))"
      ],
      "execution_count": null,
      "outputs": [
        {
          "output_type": "stream",
          "text": [
            "<class 'tuple'>\n"
          ],
          "name": "stdout"
        }
      ]
    },
    {
      "cell_type": "code",
      "metadata": {
        "colab": {
          "base_uri": "https://localhost:8080/"
        },
        "id": "RLQqmvR3xcdy",
        "outputId": "feca4677-f28f-4832-eee9-9b865cd6115d"
      },
      "source": [
        "a=[1,'2', 'me']\n",
        "print (type (a))"
      ],
      "execution_count": null,
      "outputs": [
        {
          "output_type": "stream",
          "text": [
            "<class 'list'>\n"
          ],
          "name": "stdout"
        }
      ]
    },
    {
      "cell_type": "code",
      "metadata": {
        "colab": {
          "base_uri": "https://localhost:8080/"
        },
        "id": "K1I_WSP8xjpR",
        "outputId": "eae18e75-dfdd-45f0-aa82-fdc4c704635b"
      },
      "source": [
        "a={'me': 1, 'you': 2, 'him': 3}\n",
        "print (type (a))"
      ],
      "execution_count": null,
      "outputs": [
        {
          "output_type": "stream",
          "text": [
            "<class 'dict'>\n"
          ],
          "name": "stdout"
        }
      ]
    }
  ]
}