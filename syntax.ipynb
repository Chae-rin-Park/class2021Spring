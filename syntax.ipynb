{
  "nbformat": 4,
  "nbformat_minor": 0,
  "metadata": {
    "colab": {
      "name": "Untitled1.ipynb",
      "provenance": [],
      "authorship_tag": "ABX9TyP3xg+8o4jWye6O9OAQvF8l",
      "include_colab_link": true
    },
    "kernelspec": {
      "name": "python3",
      "display_name": "Python 3"
    }
  },
  "cells": [
    {
      "cell_type": "markdown",
      "metadata": {
        "id": "view-in-github",
        "colab_type": "text"
      },
      "source": [
        "<a href=\"https://colab.research.google.com/github/Chae-rin-Park/class2021Spring/blob/main/syntax.ipynb\" target=\"_parent\"><img src=\"https://colab.research.google.com/assets/colab-badge.svg\" alt=\"Open In Colab\"/></a>"
      ]
    },
    {
      "cell_type": "code",
      "metadata": {
        "colab": {
          "base_uri": "https://localhost:8080/"
        },
        "id": "02aksxXbjS8F",
        "outputId": "ab5fb756-4a68-4280-bc42-339b0e750f7e"
      },
      "source": [
        "a = ['apple', 'banana', 'coconut', 'durian']\n",
        "for i in a:\n",
        "  print (i)"
      ],
      "execution_count": 10,
      "outputs": [
        {
          "output_type": "stream",
          "text": [
            "apple\n",
            "banana\n",
            "coconut\n",
            "durian\n"
          ],
          "name": "stdout"
        }
      ]
    },
    {
      "cell_type": "code",
      "metadata": {
        "colab": {
          "base_uri": "https://localhost:8080/"
        },
        "id": "L8X8FzK_kRqi",
        "outputId": "fb3096dd-8fbb-4361-ecd8-b7c31634dda0"
      },
      "source": [
        "for i in range(len(a)):\n",
        "  print (a[i])"
      ],
      "execution_count": 11,
      "outputs": [
        {
          "output_type": "stream",
          "text": [
            "apple\n",
            "banana\n",
            "coconut\n",
            "durian\n"
          ],
          "name": "stdout"
        }
      ]
    },
    {
      "cell_type": "code",
      "metadata": {
        "colab": {
          "base_uri": "https://localhost:8080/"
        },
        "id": "y2Hnhve8kmJS",
        "outputId": "670aa25e-ef5a-46c6-8982-6aa332dab061"
      },
      "source": [
        "b = [0.1, 0.2, 0.3, 0.4]\n",
        "for i in b:\n",
        "  print (i)"
      ],
      "execution_count": 7,
      "outputs": [
        {
          "output_type": "stream",
          "text": [
            "0.1\n",
            "0.2\n",
            "0.3\n",
            "0.4\n"
          ],
          "name": "stdout"
        }
      ]
    },
    {
      "cell_type": "code",
      "metadata": {
        "colab": {
          "base_uri": "https://localhost:8080/"
        },
        "id": "jt_lHIbMkunB",
        "outputId": "87328a42-75de-40e3-ae22-3dd9733ba699"
      },
      "source": [
        "for i in range(len(b)):\n",
        "  print (b[i])"
      ],
      "execution_count": 8,
      "outputs": [
        {
          "output_type": "stream",
          "text": [
            "0.1\n",
            "0.2\n",
            "0.3\n",
            "0.4\n"
          ],
          "name": "stdout"
        }
      ]
    },
    {
      "cell_type": "code",
      "metadata": {
        "colab": {
          "base_uri": "https://localhost:8080/"
        },
        "id": "dpy4hZWHk3H7",
        "outputId": "d2a15607-7b47-455b-8a29-4d58cf6d4cc8"
      },
      "source": [
        "for a_, b_ in zip(a, b):\n",
        "  print (\"{}: {}%\".format(a_, b_*100))"
      ],
      "execution_count": 12,
      "outputs": [
        {
          "output_type": "stream",
          "text": [
            "apple: 10.0%\n",
            "banana: 20.0%\n",
            "coconut: 30.0%\n",
            "durian: 40.0%\n"
          ],
          "name": "stdout"
        }
      ]
    },
    {
      "cell_type": "code",
      "metadata": {
        "colab": {
          "base_uri": "https://localhost:8080/"
        },
        "id": "GADHyPDglmj_",
        "outputId": "0c5d3af2-e5b9-4b24-c6b8-ba72b9c3a12d"
      },
      "source": [
        "x = 0\n",
        "if x == 0:\n",
        "  print (x)\n",
        "else: \n",
        "  print (x+1)"
      ],
      "execution_count": 13,
      "outputs": [
        {
          "output_type": "stream",
          "text": [
            "0\n"
          ],
          "name": "stdout"
        }
      ]
    },
    {
      "cell_type": "code",
      "metadata": {
        "colab": {
          "base_uri": "https://localhost:8080/"
        },
        "id": "7IG371Zjl2Z2",
        "outputId": "fda12c7a-12d5-43f1-b6ee-2a33685dc208"
      },
      "source": [
        "for y in range(1,3):\n",
        "  for z in range(2,6):\n",
        "    print(z/y)"
      ],
      "execution_count": 15,
      "outputs": [
        {
          "output_type": "stream",
          "text": [
            "2.0\n",
            "3.0\n",
            "4.0\n",
            "5.0\n",
            "1.0\n",
            "1.5\n",
            "2.0\n",
            "2.5\n"
          ],
          "name": "stdout"
        }
      ]
    },
    {
      "cell_type": "code",
      "metadata": {
        "colab": {
          "base_uri": "https://localhost:8080/"
        },
        "id": "HrQyvnlVmZtT",
        "outputId": "2d44da2a-633b-4c9c-e37c-73057142a08e"
      },
      "source": [
        "    if z >=4:\n",
        "      print (z/y)"
      ],
      "execution_count": 18,
      "outputs": [
        {
          "output_type": "stream",
          "text": [
            "2.5\n"
          ],
          "name": "stdout"
        }
      ]
    },
    {
      "cell_type": "code",
      "metadata": {
        "colab": {
          "base_uri": "https://localhost:8080/"
        },
        "id": "ko7mgRexnNxN",
        "outputId": "6ad6c924-fa8b-4fbd-f023-a075d26fb6f6"
      },
      "source": [
        "c = [3, 2, 1, 4]\n",
        "d = [i for i in c if i >=2]\n",
        "d"
      ],
      "execution_count": 23,
      "outputs": [
        {
          "output_type": "execute_result",
          "data": {
            "text/plain": [
              "[3, 2, 4]"
            ]
          },
          "metadata": {
            "tags": []
          },
          "execution_count": 23
        }
      ]
    },
    {
      "cell_type": "code",
      "metadata": {
        "colab": {
          "base_uri": "https://localhost:8080/"
        },
        "id": "TmPg3OWMnxN-",
        "outputId": "b09deef6-edd6-467f-aebd-04f47d3441c3"
      },
      "source": [
        "e = ['joy', 'sadness', 'disgust', 'fear', 'anger']\n",
        "f = [i for i in e if len(i) >=5]\n",
        "f"
      ],
      "execution_count": 24,
      "outputs": [
        {
          "output_type": "execute_result",
          "data": {
            "text/plain": [
              "['sadness', 'disgust', 'anger']"
            ]
          },
          "metadata": {
            "tags": []
          },
          "execution_count": 24
        }
      ]
    }
  ]
}